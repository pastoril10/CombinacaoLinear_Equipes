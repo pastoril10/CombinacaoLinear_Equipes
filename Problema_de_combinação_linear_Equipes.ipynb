{
  "nbformat": 4,
  "nbformat_minor": 0,
  "metadata": {
    "colab": {
      "name": "Problema de combinação linear - Equipes",
      "provenance": [],
      "collapsed_sections": [],
      "include_colab_link": true
    },
    "kernelspec": {
      "name": "python3",
      "display_name": "Python 3"
    },
    "language_info": {
      "name": "python"
    }
  },
  "cells": [
    {
      "cell_type": "markdown",
      "metadata": {
        "id": "view-in-github",
        "colab_type": "text"
      },
      "source": [
        "<a href=\"https://colab.research.google.com/github/pastoril10/CombinacaoLinear_Equipes/blob/main/Problema_de_combina%C3%A7%C3%A3o_linear_Equipes.ipynb\" target=\"_parent\"><img src=\"https://colab.research.google.com/assets/colab-badge.svg\" alt=\"Open In Colab\"/></a>"
      ]
    },
    {
      "cell_type": "markdown",
      "source": [
        "# Problema de Combinação linear - Equipes"
      ],
      "metadata": {
        "id": "DD-XOAVyUrrg"
      }
    },
    {
      "cell_type": "markdown",
      "source": [
        "\n",
        "\n",
        "Um grupo de 9 amigos decidiram organizar uma pelada com 3 equipes. Os atletas e suas respectivas notas são passadas abaixo (dados). Monte as equipes de forma a obter a menor diferença de habilidade entre cada uma delas, lembrando que cada jogador pode pertencer a somente uma equipe e cada equipe precisa ter exatamente 3 jogadores."
      ],
      "metadata": {
        "id": "fVKz6wBLUEFU"
      }
    },
    {
      "cell_type": "markdown",
      "source": [
        "## 1. Importando as bibliotecas "
      ],
      "metadata": {
        "id": "1ahrD_M5L0Nv"
      }
    },
    {
      "cell_type": "code",
      "metadata": {
        "id": "MO0i4YtC7vtR"
      },
      "source": [
        "import pandas as pd\n",
        "from itertools import combinations"
      ],
      "execution_count": 1,
      "outputs": []
    },
    {
      "cell_type": "markdown",
      "source": [
        "# 2. Criando o DataFrame"
      ],
      "metadata": {
        "id": "yjJ7CPoOMAag"
      }
    },
    {
      "cell_type": "code",
      "metadata": {
        "id": "px7LkXnA7zwS"
      },
      "source": [
        "dados = {\"Jogadores\":[\"Fernando\", \"Thales\", \"Diogo\", \"Ricardo\", \"Aline\", \"João\", \"Gustavo\", \"Albino\", \"Wellinton\"],\n",
        "         \"Nota\":[9,8,3,7,8,10,6,5,3]}"
      ],
      "execution_count": 2,
      "outputs": []
    },
    {
      "cell_type": "code",
      "metadata": {
        "id": "KMTegUf8NuoN"
      },
      "source": [
        "df = pd.DataFrame(dados)"
      ],
      "execution_count": 3,
      "outputs": []
    },
    {
      "cell_type": "code",
      "metadata": {
        "id": "G28-CIri8qbT"
      },
      "source": [
        "# COlocando o DataFrame em ordem (da maior nota para a menor)\n",
        "df.sort_values(by=\"Nota\", ascending=False, inplace=True, ignore_index=True)"
      ],
      "execution_count": 4,
      "outputs": []
    },
    {
      "cell_type": "code",
      "metadata": {
        "colab": {
          "base_uri": "https://localhost:8080/",
          "height": 332
        },
        "id": "Z-sc3AXLXOYm",
        "outputId": "0f98d514-5cc7-4da4-98f0-1dca75b55f34"
      },
      "source": [
        "df"
      ],
      "execution_count": 5,
      "outputs": [
        {
          "output_type": "execute_result",
          "data": {
            "text/html": [
              "\n",
              "  <div id=\"df-145338eb-698e-4b73-b70e-b76ce8bfac30\">\n",
              "    <div class=\"colab-df-container\">\n",
              "      <div>\n",
              "<style scoped>\n",
              "    .dataframe tbody tr th:only-of-type {\n",
              "        vertical-align: middle;\n",
              "    }\n",
              "\n",
              "    .dataframe tbody tr th {\n",
              "        vertical-align: top;\n",
              "    }\n",
              "\n",
              "    .dataframe thead th {\n",
              "        text-align: right;\n",
              "    }\n",
              "</style>\n",
              "<table border=\"1\" class=\"dataframe\">\n",
              "  <thead>\n",
              "    <tr style=\"text-align: right;\">\n",
              "      <th></th>\n",
              "      <th>Jogadores</th>\n",
              "      <th>Nota</th>\n",
              "    </tr>\n",
              "  </thead>\n",
              "  <tbody>\n",
              "    <tr>\n",
              "      <th>0</th>\n",
              "      <td>João</td>\n",
              "      <td>10</td>\n",
              "    </tr>\n",
              "    <tr>\n",
              "      <th>1</th>\n",
              "      <td>Fernando</td>\n",
              "      <td>9</td>\n",
              "    </tr>\n",
              "    <tr>\n",
              "      <th>2</th>\n",
              "      <td>Thales</td>\n",
              "      <td>8</td>\n",
              "    </tr>\n",
              "    <tr>\n",
              "      <th>3</th>\n",
              "      <td>Aline</td>\n",
              "      <td>8</td>\n",
              "    </tr>\n",
              "    <tr>\n",
              "      <th>4</th>\n",
              "      <td>Ricardo</td>\n",
              "      <td>7</td>\n",
              "    </tr>\n",
              "    <tr>\n",
              "      <th>5</th>\n",
              "      <td>Gustavo</td>\n",
              "      <td>6</td>\n",
              "    </tr>\n",
              "    <tr>\n",
              "      <th>6</th>\n",
              "      <td>Albino</td>\n",
              "      <td>5</td>\n",
              "    </tr>\n",
              "    <tr>\n",
              "      <th>7</th>\n",
              "      <td>Diogo</td>\n",
              "      <td>3</td>\n",
              "    </tr>\n",
              "    <tr>\n",
              "      <th>8</th>\n",
              "      <td>Wellinton</td>\n",
              "      <td>3</td>\n",
              "    </tr>\n",
              "  </tbody>\n",
              "</table>\n",
              "</div>\n",
              "      <button class=\"colab-df-convert\" onclick=\"convertToInteractive('df-145338eb-698e-4b73-b70e-b76ce8bfac30')\"\n",
              "              title=\"Convert this dataframe to an interactive table.\"\n",
              "              style=\"display:none;\">\n",
              "        \n",
              "  <svg xmlns=\"http://www.w3.org/2000/svg\" height=\"24px\"viewBox=\"0 0 24 24\"\n",
              "       width=\"24px\">\n",
              "    <path d=\"M0 0h24v24H0V0z\" fill=\"none\"/>\n",
              "    <path d=\"M18.56 5.44l.94 2.06.94-2.06 2.06-.94-2.06-.94-.94-2.06-.94 2.06-2.06.94zm-11 1L8.5 8.5l.94-2.06 2.06-.94-2.06-.94L8.5 2.5l-.94 2.06-2.06.94zm10 10l.94 2.06.94-2.06 2.06-.94-2.06-.94-.94-2.06-.94 2.06-2.06.94z\"/><path d=\"M17.41 7.96l-1.37-1.37c-.4-.4-.92-.59-1.43-.59-.52 0-1.04.2-1.43.59L10.3 9.45l-7.72 7.72c-.78.78-.78 2.05 0 2.83L4 21.41c.39.39.9.59 1.41.59.51 0 1.02-.2 1.41-.59l7.78-7.78 2.81-2.81c.8-.78.8-2.07 0-2.86zM5.41 20L4 18.59l7.72-7.72 1.47 1.35L5.41 20z\"/>\n",
              "  </svg>\n",
              "      </button>\n",
              "      \n",
              "  <style>\n",
              "    .colab-df-container {\n",
              "      display:flex;\n",
              "      flex-wrap:wrap;\n",
              "      gap: 12px;\n",
              "    }\n",
              "\n",
              "    .colab-df-convert {\n",
              "      background-color: #E8F0FE;\n",
              "      border: none;\n",
              "      border-radius: 50%;\n",
              "      cursor: pointer;\n",
              "      display: none;\n",
              "      fill: #1967D2;\n",
              "      height: 32px;\n",
              "      padding: 0 0 0 0;\n",
              "      width: 32px;\n",
              "    }\n",
              "\n",
              "    .colab-df-convert:hover {\n",
              "      background-color: #E2EBFA;\n",
              "      box-shadow: 0px 1px 2px rgba(60, 64, 67, 0.3), 0px 1px 3px 1px rgba(60, 64, 67, 0.15);\n",
              "      fill: #174EA6;\n",
              "    }\n",
              "\n",
              "    [theme=dark] .colab-df-convert {\n",
              "      background-color: #3B4455;\n",
              "      fill: #D2E3FC;\n",
              "    }\n",
              "\n",
              "    [theme=dark] .colab-df-convert:hover {\n",
              "      background-color: #434B5C;\n",
              "      box-shadow: 0px 1px 3px 1px rgba(0, 0, 0, 0.15);\n",
              "      filter: drop-shadow(0px 1px 2px rgba(0, 0, 0, 0.3));\n",
              "      fill: #FFFFFF;\n",
              "    }\n",
              "  </style>\n",
              "\n",
              "      <script>\n",
              "        const buttonEl =\n",
              "          document.querySelector('#df-145338eb-698e-4b73-b70e-b76ce8bfac30 button.colab-df-convert');\n",
              "        buttonEl.style.display =\n",
              "          google.colab.kernel.accessAllowed ? 'block' : 'none';\n",
              "\n",
              "        async function convertToInteractive(key) {\n",
              "          const element = document.querySelector('#df-145338eb-698e-4b73-b70e-b76ce8bfac30');\n",
              "          const dataTable =\n",
              "            await google.colab.kernel.invokeFunction('convertToInteractive',\n",
              "                                                     [key], {});\n",
              "          if (!dataTable) return;\n",
              "\n",
              "          const docLinkHtml = 'Like what you see? Visit the ' +\n",
              "            '<a target=\"_blank\" href=https://colab.research.google.com/notebooks/data_table.ipynb>data table notebook</a>'\n",
              "            + ' to learn more about interactive tables.';\n",
              "          element.innerHTML = '';\n",
              "          dataTable['output_type'] = 'display_data';\n",
              "          await google.colab.output.renderOutput(dataTable, element);\n",
              "          const docLink = document.createElement('div');\n",
              "          docLink.innerHTML = docLinkHtml;\n",
              "          element.appendChild(docLink);\n",
              "        }\n",
              "      </script>\n",
              "    </div>\n",
              "  </div>\n",
              "  "
            ],
            "text/plain": [
              "   Jogadores  Nota\n",
              "0       João    10\n",
              "1   Fernando     9\n",
              "2     Thales     8\n",
              "3      Aline     8\n",
              "4    Ricardo     7\n",
              "5    Gustavo     6\n",
              "6     Albino     5\n",
              "7      Diogo     3\n",
              "8  Wellinton     3"
            ]
          },
          "metadata": {},
          "execution_count": 5
        }
      ]
    },
    {
      "cell_type": "markdown",
      "source": [
        "Dividimos a pontuação total dos atletas por 3, para termos uma ideia de qual o valor de pontos por time"
      ],
      "metadata": {
        "id": "ZWIZNkDWODH6"
      }
    },
    {
      "cell_type": "code",
      "metadata": {
        "colab": {
          "base_uri": "https://localhost:8080/"
        },
        "id": "uSsjc7NlWKO-",
        "outputId": "b3de4b7c-02bc-4fb5-a2e2-efe54347d2d8"
      },
      "source": [
        "df[\"Nota\"].sum()/3"
      ],
      "execution_count": 6,
      "outputs": [
        {
          "output_type": "execute_result",
          "data": {
            "text/plain": [
              "19.666666666666668"
            ]
          },
          "metadata": {},
          "execution_count": 6
        }
      ]
    },
    {
      "cell_type": "markdown",
      "metadata": {
        "id": "jFdtRU_UWPQW"
      },
      "source": [
        "Como a divisão da soma dos pontos de todos os jogadores por 3 (3 equipes) é igual a 19,67, vamos ter que montar as equipes da seguinte forma.\n",
        "\n",
        "Equipe 1 = 20 Pontos\n",
        "\n",
        "Equipe 2 = 20 Pontos\n",
        "\n",
        "Equipe 3 = 19 Pontos"
      ]
    },
    {
      "cell_type": "code",
      "source": [
        "# Opção alternativa para colocar o DataFrame \n",
        "\n",
        "df = df.sample(9)"
      ],
      "metadata": {
        "id": "xZViHGQS2U7w"
      },
      "execution_count": 7,
      "outputs": []
    },
    {
      "cell_type": "code",
      "source": [
        "# Colocando a coluna Nota como index do nosso DataFrame\n",
        "df.set_index(\"Nota\", inplace = True)"
      ],
      "metadata": {
        "id": "lNb1v_4Pybec"
      },
      "execution_count": 8,
      "outputs": []
    },
    {
      "cell_type": "code",
      "source": [
        "df"
      ],
      "metadata": {
        "colab": {
          "base_uri": "https://localhost:8080/",
          "height": 363
        },
        "id": "KfG28pVSaLc-",
        "outputId": "b5400bdc-e300-4611-c594-0162575366b4"
      },
      "execution_count": 9,
      "outputs": [
        {
          "output_type": "execute_result",
          "data": {
            "text/html": [
              "\n",
              "  <div id=\"df-f18e882a-15e8-4d6f-ae4f-1328466ada6a\">\n",
              "    <div class=\"colab-df-container\">\n",
              "      <div>\n",
              "<style scoped>\n",
              "    .dataframe tbody tr th:only-of-type {\n",
              "        vertical-align: middle;\n",
              "    }\n",
              "\n",
              "    .dataframe tbody tr th {\n",
              "        vertical-align: top;\n",
              "    }\n",
              "\n",
              "    .dataframe thead th {\n",
              "        text-align: right;\n",
              "    }\n",
              "</style>\n",
              "<table border=\"1\" class=\"dataframe\">\n",
              "  <thead>\n",
              "    <tr style=\"text-align: right;\">\n",
              "      <th></th>\n",
              "      <th>Jogadores</th>\n",
              "    </tr>\n",
              "    <tr>\n",
              "      <th>Nota</th>\n",
              "      <th></th>\n",
              "    </tr>\n",
              "  </thead>\n",
              "  <tbody>\n",
              "    <tr>\n",
              "      <th>6</th>\n",
              "      <td>Gustavo</td>\n",
              "    </tr>\n",
              "    <tr>\n",
              "      <th>3</th>\n",
              "      <td>Wellinton</td>\n",
              "    </tr>\n",
              "    <tr>\n",
              "      <th>3</th>\n",
              "      <td>Diogo</td>\n",
              "    </tr>\n",
              "    <tr>\n",
              "      <th>5</th>\n",
              "      <td>Albino</td>\n",
              "    </tr>\n",
              "    <tr>\n",
              "      <th>8</th>\n",
              "      <td>Aline</td>\n",
              "    </tr>\n",
              "    <tr>\n",
              "      <th>7</th>\n",
              "      <td>Ricardo</td>\n",
              "    </tr>\n",
              "    <tr>\n",
              "      <th>8</th>\n",
              "      <td>Thales</td>\n",
              "    </tr>\n",
              "    <tr>\n",
              "      <th>10</th>\n",
              "      <td>João</td>\n",
              "    </tr>\n",
              "    <tr>\n",
              "      <th>9</th>\n",
              "      <td>Fernando</td>\n",
              "    </tr>\n",
              "  </tbody>\n",
              "</table>\n",
              "</div>\n",
              "      <button class=\"colab-df-convert\" onclick=\"convertToInteractive('df-f18e882a-15e8-4d6f-ae4f-1328466ada6a')\"\n",
              "              title=\"Convert this dataframe to an interactive table.\"\n",
              "              style=\"display:none;\">\n",
              "        \n",
              "  <svg xmlns=\"http://www.w3.org/2000/svg\" height=\"24px\"viewBox=\"0 0 24 24\"\n",
              "       width=\"24px\">\n",
              "    <path d=\"M0 0h24v24H0V0z\" fill=\"none\"/>\n",
              "    <path d=\"M18.56 5.44l.94 2.06.94-2.06 2.06-.94-2.06-.94-.94-2.06-.94 2.06-2.06.94zm-11 1L8.5 8.5l.94-2.06 2.06-.94-2.06-.94L8.5 2.5l-.94 2.06-2.06.94zm10 10l.94 2.06.94-2.06 2.06-.94-2.06-.94-.94-2.06-.94 2.06-2.06.94z\"/><path d=\"M17.41 7.96l-1.37-1.37c-.4-.4-.92-.59-1.43-.59-.52 0-1.04.2-1.43.59L10.3 9.45l-7.72 7.72c-.78.78-.78 2.05 0 2.83L4 21.41c.39.39.9.59 1.41.59.51 0 1.02-.2 1.41-.59l7.78-7.78 2.81-2.81c.8-.78.8-2.07 0-2.86zM5.41 20L4 18.59l7.72-7.72 1.47 1.35L5.41 20z\"/>\n",
              "  </svg>\n",
              "      </button>\n",
              "      \n",
              "  <style>\n",
              "    .colab-df-container {\n",
              "      display:flex;\n",
              "      flex-wrap:wrap;\n",
              "      gap: 12px;\n",
              "    }\n",
              "\n",
              "    .colab-df-convert {\n",
              "      background-color: #E8F0FE;\n",
              "      border: none;\n",
              "      border-radius: 50%;\n",
              "      cursor: pointer;\n",
              "      display: none;\n",
              "      fill: #1967D2;\n",
              "      height: 32px;\n",
              "      padding: 0 0 0 0;\n",
              "      width: 32px;\n",
              "    }\n",
              "\n",
              "    .colab-df-convert:hover {\n",
              "      background-color: #E2EBFA;\n",
              "      box-shadow: 0px 1px 2px rgba(60, 64, 67, 0.3), 0px 1px 3px 1px rgba(60, 64, 67, 0.15);\n",
              "      fill: #174EA6;\n",
              "    }\n",
              "\n",
              "    [theme=dark] .colab-df-convert {\n",
              "      background-color: #3B4455;\n",
              "      fill: #D2E3FC;\n",
              "    }\n",
              "\n",
              "    [theme=dark] .colab-df-convert:hover {\n",
              "      background-color: #434B5C;\n",
              "      box-shadow: 0px 1px 3px 1px rgba(0, 0, 0, 0.15);\n",
              "      filter: drop-shadow(0px 1px 2px rgba(0, 0, 0, 0.3));\n",
              "      fill: #FFFFFF;\n",
              "    }\n",
              "  </style>\n",
              "\n",
              "      <script>\n",
              "        const buttonEl =\n",
              "          document.querySelector('#df-f18e882a-15e8-4d6f-ae4f-1328466ada6a button.colab-df-convert');\n",
              "        buttonEl.style.display =\n",
              "          google.colab.kernel.accessAllowed ? 'block' : 'none';\n",
              "\n",
              "        async function convertToInteractive(key) {\n",
              "          const element = document.querySelector('#df-f18e882a-15e8-4d6f-ae4f-1328466ada6a');\n",
              "          const dataTable =\n",
              "            await google.colab.kernel.invokeFunction('convertToInteractive',\n",
              "                                                     [key], {});\n",
              "          if (!dataTable) return;\n",
              "\n",
              "          const docLinkHtml = 'Like what you see? Visit the ' +\n",
              "            '<a target=\"_blank\" href=https://colab.research.google.com/notebooks/data_table.ipynb>data table notebook</a>'\n",
              "            + ' to learn more about interactive tables.';\n",
              "          element.innerHTML = '';\n",
              "          dataTable['output_type'] = 'display_data';\n",
              "          await google.colab.output.renderOutput(dataTable, element);\n",
              "          const docLink = document.createElement('div');\n",
              "          docLink.innerHTML = docLinkHtml;\n",
              "          element.appendChild(docLink);\n",
              "        }\n",
              "      </script>\n",
              "    </div>\n",
              "  </div>\n",
              "  "
            ],
            "text/plain": [
              "      Jogadores\n",
              "Nota           \n",
              "6       Gustavo\n",
              "3     Wellinton\n",
              "3         Diogo\n",
              "5        Albino\n",
              "8         Aline\n",
              "7       Ricardo\n",
              "8        Thales\n",
              "10         João\n",
              "9      Fernando"
            ]
          },
          "metadata": {},
          "execution_count": 9
        }
      ]
    },
    {
      "cell_type": "code",
      "source": [
        "#Criando os times A, B e C - Uma lista vazia.\n",
        "\n",
        "A = []\n",
        "B = []\n",
        "C = []"
      ],
      "metadata": {
        "id": "YH3JuamiyquH"
      },
      "execution_count": 10,
      "outputs": []
    },
    {
      "cell_type": "code",
      "source": [
        "#Salvando as notas em uma lista\n",
        "\n",
        "Nota = list(df.index)\n",
        "Nota"
      ],
      "metadata": {
        "colab": {
          "base_uri": "https://localhost:8080/"
        },
        "id": "2FAM5awIlOFT",
        "outputId": "9b1315db-e82c-4509-f08c-ec7a04bb4bdc"
      },
      "execution_count": 11,
      "outputs": [
        {
          "output_type": "execute_result",
          "data": {
            "text/plain": [
              "[6, 3, 3, 5, 8, 7, 8, 10, 9]"
            ]
          },
          "metadata": {},
          "execution_count": 11
        }
      ]
    },
    {
      "cell_type": "markdown",
      "source": [
        "Verifiquei que existem atletas que possuem a mesma nota. Se ignoro esse fato, o programa não vai executar perfeitamente. \n",
        "\n",
        "Quando i = 3, vai ser adicionado Diogo ou Wellinton? veja, temos um problema ai.\n",
        "\n",
        "Para driblar esse fato, defini o seguinte:\n",
        "\n",
        "Quando aparecer i = 3 (pela primeira vez), estaremos falando do Diogo. O mesmo vale para i = 8, vamos estar nos referindo a Aline.\n",
        "\n",
        "Por isso é possivel enchergar os if (i == 3...) e if (i == 8...) "
      ],
      "metadata": {
        "id": "TOHEhLG4SfbN"
      }
    },
    {
      "cell_type": "code",
      "source": [
        "#Criando apenas os objetos a, b e c que recebe o valor True\n",
        "a = True\n",
        "b = True\n",
        "c = True\n",
        "d = True\n",
        "\n",
        "for timeA in combinations(Nota, 3):\n",
        "  \n",
        "  if sum(timeA) == 20 and a == True:\n",
        "    a = False\n",
        "    for i in timeA:\n",
        "      \n",
        "      if (i == 3 and b == True):\n",
        "        df.reset_index(inplace = True)\n",
        "        diogo = df.loc[(df[\"Jogadores\"] == \"Diogo\")]\n",
        "        n = df[df[\"Jogadores\"] == \"Diogo\"].index\n",
        "        df.drop(n, inplace = True)\n",
        "        df.set_index(\"Nota\", inplace = True)\n",
        "\n",
        "        diogo.set_index(\"Nota\", inplace = True)\n",
        "        A.append(diogo.loc[i, \"Jogadores\"])\n",
        "        b = False\n",
        "        \n",
        "      elif (i == 8 and c == True):\n",
        "        df.reset_index(inplace = True)\n",
        "        aline = df.loc[(df[\"Jogadores\"] == \"Aline\")]\n",
        "        n = df[df[\"Jogadores\"] == \"Aline\"].index\n",
        "        df.drop(n, inplace = True)\n",
        "        df.set_index(\"Nota\", inplace = True)\n",
        "\n",
        "        aline.set_index(\"Nota\", inplace = True)\n",
        "        A.append(aline.loc[i, \"Jogadores\"])\n",
        "        c = False\n",
        "        \n",
        "      else:\n",
        "        A.append(df.loc[i, \"Jogadores\"])\n",
        "        df.drop(index = i, inplace= True)\n",
        "  \n",
        "    print (\"A equipe 1 sera formada pelos atletas:\", A)\n",
        "    print ()\n",
        "\n",
        "a = True\n",
        "for timeB in combinations(df.index, 3):\n",
        "  if sum(timeB) == 20 and a == True:\n",
        "    a = False\n",
        "    \n",
        "    for i in timeB:\n",
        "      if (i == 3 and b == True):\n",
        "        df.reset_index(inplace = True)\n",
        "        diogo = df.loc[(df[\"Jogadores\"] == \"Diogo\")]\n",
        "        n = df[df[\"Jogadores\"] == \"Diogo\"].index\n",
        "        df.drop(n, inplace = True)\n",
        "        df.set_index(\"Nota\", inplace = True)\n",
        "\n",
        "        diogo.set_index(\"Nota\", inplace = True)\n",
        "        B.append(diogo.loc[i, \"Jogadores\"])\n",
        "        b = False\n",
        "        \n",
        "      elif (i == 8 and c == True):\n",
        "        df.reset_index(inplace = True)\n",
        "        aline = df.loc[(df[\"Jogadores\"] == \"Aline\")]\n",
        "        n = df[df[\"Jogadores\"] == \"Aline\"].index\n",
        "        df.drop(n, inplace = True)\n",
        "        df.set_index(\"Nota\", inplace = True)\n",
        "\n",
        "        aline.set_index(\"Nota\", inplace = True)\n",
        "        B.append(aline.loc[i, \"Jogadores\"])\n",
        "        c = False\n",
        "        \n",
        "      else:        \n",
        "        B.append(df.loc[i, \"Jogadores\"])\n",
        "        df.drop(index = i, inplace= True)\n",
        "\n",
        "    print (\"A equipe 2 sera formada pelos atletas:\", B) \n",
        "    print ()\n",
        "\n",
        "a = True\n",
        "for timeC in combinations(df.index, 3):\n",
        "  if sum(timeC) == 19 and a == True:\n",
        "    a = False\n",
        "\n",
        "    for i in timeC:\n",
        "      if(i == 8 and d == True):\n",
        "        df.reset_index(inplace = True)\n",
        "        aline = df.loc[(df[\"Jogadores\"] == \"Aline\")]\n",
        "        n = df[df[\"Jogadores\"] == \"Aline\"].index\n",
        "        df.drop(n, inplace = True)\n",
        "        df.set_index(\"Nota\", inplace = True)\n",
        "\n",
        "        aline.set_index(\"Nota\", inplace = True)\n",
        "        C.append(aline.loc[i, \"Jogadores\"])\n",
        "        d = False\n",
        "\n",
        "      else:\n",
        "        C.append(df.loc[i, \"Jogadores\"])\n",
        "        df.drop(index = i, inplace= True)\n",
        " \n",
        "    print (\"A equipe 3 sera formada pelos atletas:\", C)\n",
        "    print ( )"
      ],
      "metadata": {
        "id": "V-pzH_8Ay0uW",
        "colab": {
          "base_uri": "https://localhost:8080/"
        },
        "outputId": "f96635a6-188d-4eb1-c817-7b26a28c8a61"
      },
      "execution_count": 12,
      "outputs": [
        {
          "output_type": "stream",
          "name": "stdout",
          "text": [
            "A equipe 1 sera formada pelos atletas: ['Gustavo', 'Albino', 'Fernando']\n",
            "\n",
            "A equipe 2 sera formada pelos atletas: ['Diogo', 'Ricardo', 'João']\n",
            "\n",
            "A equipe 3 sera formada pelos atletas: ['Wellinton', 'Aline', 'Thales']\n",
            "\n"
          ]
        }
      ]
    },
    {
      "cell_type": "code",
      "source": [
        ""
      ],
      "metadata": {
        "id": "31k1zDj1bPrr"
      },
      "execution_count": 12,
      "outputs": []
    }
  ]
}